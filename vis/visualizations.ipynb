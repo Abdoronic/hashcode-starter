{
 "cells": [
  {
   "cell_type": "markdown",
   "metadata": {},
   "source": [
    "# Input Visualizations"
   ]
  },
  {
   "cell_type": "code",
   "execution_count": null,
   "metadata": {},
   "outputs": [],
   "source": [
    "file_names = []\n",
    "input_extension = \".in\"\n",
    "fields = []"
   ]
  },
  {
   "cell_type": "markdown",
   "metadata": {},
   "source": [
    "## Functions"
   ]
  },
  {
   "cell_type": "code",
   "execution_count": null,
   "metadata": {},
   "outputs": [],
   "source": [
    "import pandas as pd\n",
    "from pandas_profiling import ProfileReport\n",
    "import plotly.graph_objects as go\n",
    "import seaborn as sns\n",
    "from typing import List, Tuple"
   ]
  },
  {
   "cell_type": "code",
   "execution_count": null,
   "metadata": {},
   "outputs": [],
   "source": [
    "def parse_input(path: str) -> pd.DataFrame:\n",
    "    try:\n",
    "        input_file = open(path)\n",
    "    except IOError:\n",
    "        print('There was an error opening the file!')\n",
    "        return\n",
    "\n",
    "    data = [] # List of dicts\n",
    "\n",
    "    # Parse Data\n",
    "    lines = input_file.readlines()\n",
    "\n",
    "    return pd.DataFrame(data, columns=fields)"
   ]
  },
  {
   "cell_type": "code",
   "execution_count": null,
   "metadata": {},
   "outputs": [],
   "source": [
    "def draw_shapes(shapes: List[List[Tuple[int, int]]]):\n",
    "    fig = go.Figure()\n",
    "    for shape in shapes:\n",
    "        for i in range(0, len(shape) - 1):\n",
    "            fig.add_shape(type=\"line\",\n",
    "                x0=shape[i][0], y0=shape[i][1], x1=shape[i + 1][0], y1=shape[i + 1][1],\n",
    "                line=dict(color=\"#000000\",width=3)\n",
    "            )\n",
    "    fig.show()"
   ]
  },
  {
   "cell_type": "code",
   "execution_count": null,
   "metadata": {},
   "outputs": [],
   "source": [
    "def show_correlation(df: pd.DataFrame, x_field: str, y_field: str):\n",
    "    sns.jointplot(x=x_field, y=y_field, data=df, kind='reg')"
   ]
  },
  {
   "cell_type": "code",
   "execution_count": null,
   "metadata": {},
   "outputs": [],
   "source": [
    "def get_frame_data(df: pd.DataFrame):\n",
    "    return df.values.tolist()"
   ]
  },
  {
   "cell_type": "markdown",
   "metadata": {},
   "source": [
    "## Explore Data"
   ]
  },
  {
   "cell_type": "code",
   "execution_count": null,
   "metadata": {},
   "outputs": [],
   "source": [
    "def explore_inputs(minimal=True):\n",
    "    for file_name in file_names:\n",
    "        file_path = f'../input/{file_name}{input_extension}'\n",
    "        df_input = parse_input(file_path)\n",
    "        profile = ProfileReport(\n",
    "            df_input, title=f'{file_name} Report', explorative=True, minimal=True)\n",
    "        profile.to_file(f'./reports/{file_name}.html')"
   ]
  },
  {
   "cell_type": "code",
   "execution_count": null,
   "metadata": {},
   "outputs": [],
   "source": [
    "explore_inputs()"
   ]
  },
  {
   "cell_type": "markdown",
   "metadata": {},
   "source": [
    "## General Visualization"
   ]
  },
  {
   "cell_type": "code",
   "execution_count": null,
   "metadata": {},
   "outputs": [],
   "source": []
  }
 ],
 "metadata": {
  "kernelspec": {
   "display_name": "Python 3",
   "language": "python",
   "name": "python3"
  }
 },
 "nbformat": 4,
 "nbformat_minor": 2
}